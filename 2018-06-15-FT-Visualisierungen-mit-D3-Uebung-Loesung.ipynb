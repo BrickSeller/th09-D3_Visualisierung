{
 "cells": [
  {
   "cell_type": "markdown",
   "metadata": {},
   "source": [
    "# Übungen zur Visualisierung mit D3"
   ]
  },
  {
   "cell_type": "markdown",
   "metadata": {},
   "source": [
    "## Aufgabe 1 - Theorie"
   ]
  },
  {
   "cell_type": "markdown",
   "metadata": {},
   "source": [
    "> Beantworten Sie die folgenden Fragen:\n",
    ">> 1.1 Was sind die wesentlichen Ziele der explorativen Datenanalyse?\n",
    ">>>  \n",
    "* Erkennung von Datenfehlern, \n",
    "* Überprüfung von Annahmen, \n",
    "* Suche nach versteckten Mustern,\n",
    "* Vorauswahl geeigneter Modelle, \n",
    "* Ermittlung von Beziehungen \n",
    "\n",
    ">> 1.2 Erklären Sie den Begriff *Enable* im Bezug auf die Success Regeln nach Hichert. Wie kann ein erfolgreiches *Enable* herbeigeführt werden?\n",
    ">>> \n",
    "Bei Enable geht es um die geeignete Darstellung der Daten.\n",
    "Das heisst: Abhängig von der Botschaft muss der richtige Diagramm-/ Tabellentyp gewählt werden.\n",
    "Dabei muss Mensch sowie Organisation im Sinne der Empfängerorientierung berücksichtigt werden.<br>\n",
    "Die Erzeugung mehrerer Prototypen, mit anschließender Auswahl, welche Darstellung die Botschaft samt Fakten am besten vermittelt. \n",
    "\n",
    ">> 1.3 Welche groben Fehler wurden in folgendem Bar Chart begangen?<br>\n",
    "![SchlechterChart](img/badgraph.png) <center></center>\n",
    "\n",
    ">>>* Beschriftungen sind zu groß und lenken von der Aussage ab.\n",
    "* Diagrammtyp suggeriert Entwicklung (von links nach rechts).\n",
    "* Farben.\n",
    "* Unaussagekräftige Überschrift\n",
    "* Hilfslinien\n",
    "   \n",
    "\n",
    ">> 1.4 Welcher Diagrammtyp würde sich besser eignen?\n",
    "\n",
    ">>> z.B. Ein Horizontal Bar Chart\n",
    " \n"
   ]
  },
  {
   "cell_type": "markdown",
   "metadata": {},
   "source": [
    "## Aufgabe 2 - nvd3\n",
    "> 2.1 Binden Sie alle notwendigen Bibliotheken ein und binden sie das Datenset *Worldwide_InstantNoodleConsumption.csv* aus dem Data Ordner als Dataframe ein. <br>\n",
    " <a href=\"https://instantnoodles.org/en/noodles/market.html\">Hier</a> kommen die Daten her. <br>\n",
    " \n",
    "> 2.2 Lassen Sie sich die 10 Länder mit dem höchsten Verzehr an Instantnudeln anzeigen. <br>\n",
    "\n",
    "> 2.3 Erstellen Sie nun mithilfe von nvd3 einen Bar Chart, welcher den Instantnudelverbrauch dieser 10 Länder im Jahre 2017 darstellt. <br> Achten Sie hierbei auf eine übersichtliche Darstellung mit angemessenem Titel. <br>\n",
    "\n",
    "> 2.4 Erstellen Sie jetzt einen Multi-Bar-Chart, der den Verbrauch an Instantnudeln über den Zeitraum von 2014 bis 2017 in Deutschland mit dem in Polen vergleicht. Der Chart sollte nach Möglichkeit Stapelbar sein. <br>\n",
    "**Hinweis**: der Einfachheit halber dürfen Sie den Chart auch manuell befüllen.\n",
    " \n"
   ]
  },
  {
   "cell_type": "markdown",
   "metadata": {},
   "source": [
    "Antwort 2.1:"
   ]
  },
  {
   "cell_type": "code",
   "execution_count": 1,
   "metadata": {},
   "outputs": [
    {
     "name": "stdout",
     "output_type": "stream",
     "text": [
      "loaded nvd3 IPython extension\n",
      "run nvd3.ipynb.initialize_javascript() to set up the notebook\n",
      "help(nvd3.ipynb.initialize_javascript) for options\n"
     ]
    }
   ],
   "source": [
    "import numpy as np\n",
    "import nvd3"
   ]
  },
  {
   "cell_type": "code",
   "execution_count": 2,
   "metadata": {},
   "outputs": [],
   "source": [
    "import pandas as pd\n",
    "import json"
   ]
  },
  {
   "cell_type": "code",
   "execution_count": null,
   "metadata": {},
   "outputs": [],
   "source": [
    "Antwort 2.2:"
   ]
  },
  {
   "cell_type": "code",
   "execution_count": 3,
   "metadata": {
    "scrolled": false
   },
   "outputs": [
    {
     "data": {
      "text/html": [
       "<div>\n",
       "<style scoped>\n",
       "    .dataframe tbody tr th:only-of-type {\n",
       "        vertical-align: middle;\n",
       "    }\n",
       "\n",
       "    .dataframe tbody tr th {\n",
       "        vertical-align: top;\n",
       "    }\n",
       "\n",
       "    .dataframe thead th {\n",
       "        text-align: right;\n",
       "    }\n",
       "</style>\n",
       "<table border=\"1\" class=\"dataframe\">\n",
       "  <thead>\n",
       "    <tr style=\"text-align: right;\">\n",
       "      <th></th>\n",
       "      <th>Location</th>\n",
       "      <th>Servings_2014</th>\n",
       "      <th>Servings_2015</th>\n",
       "      <th>Servings_2016</th>\n",
       "      <th>Servings_2017</th>\n",
       "    </tr>\n",
       "  </thead>\n",
       "  <tbody>\n",
       "    <tr>\n",
       "      <th>0</th>\n",
       "      <td>China/Hong Kong</td>\n",
       "      <td>44400</td>\n",
       "      <td>40430</td>\n",
       "      <td>38520</td>\n",
       "      <td>38970</td>\n",
       "    </tr>\n",
       "    <tr>\n",
       "      <th>1</th>\n",
       "      <td>Indonesia</td>\n",
       "      <td>13430</td>\n",
       "      <td>13430</td>\n",
       "      <td>13010</td>\n",
       "      <td>12620</td>\n",
       "    </tr>\n",
       "    <tr>\n",
       "      <th>2</th>\n",
       "      <td>Japan</td>\n",
       "      <td>5500</td>\n",
       "      <td>5540</td>\n",
       "      <td>5660</td>\n",
       "      <td>5660</td>\n",
       "    </tr>\n",
       "    <tr>\n",
       "      <th>3</th>\n",
       "      <td>India</td>\n",
       "      <td>5430</td>\n",
       "      <td>3260</td>\n",
       "      <td>4270</td>\n",
       "      <td>5420</td>\n",
       "    </tr>\n",
       "    <tr>\n",
       "      <th>4</th>\n",
       "      <td>Viet Nam</td>\n",
       "      <td>5000</td>\n",
       "      <td>4800</td>\n",
       "      <td>4920</td>\n",
       "      <td>5060</td>\n",
       "    </tr>\n",
       "    <tr>\n",
       "      <th>5</th>\n",
       "      <td>USA</td>\n",
       "      <td>4280</td>\n",
       "      <td>4080</td>\n",
       "      <td>4100</td>\n",
       "      <td>4130</td>\n",
       "    </tr>\n",
       "    <tr>\n",
       "      <th>6</th>\n",
       "      <td>Philippines</td>\n",
       "      <td>3320</td>\n",
       "      <td>3480</td>\n",
       "      <td>3410</td>\n",
       "      <td>3750</td>\n",
       "    </tr>\n",
       "    <tr>\n",
       "      <th>7</th>\n",
       "      <td>Republic of Korea</td>\n",
       "      <td>3590</td>\n",
       "      <td>3650</td>\n",
       "      <td>3830</td>\n",
       "      <td>3740</td>\n",
       "    </tr>\n",
       "    <tr>\n",
       "      <th>8</th>\n",
       "      <td>Thailand</td>\n",
       "      <td>3070</td>\n",
       "      <td>3070</td>\n",
       "      <td>3360</td>\n",
       "      <td>3390</td>\n",
       "    </tr>\n",
       "    <tr>\n",
       "      <th>9</th>\n",
       "      <td>Brazil</td>\n",
       "      <td>2370</td>\n",
       "      <td>2370</td>\n",
       "      <td>2530</td>\n",
       "      <td>2230</td>\n",
       "    </tr>\n",
       "  </tbody>\n",
       "</table>\n",
       "</div>"
      ],
      "text/plain": [
       "            Location  Servings_2014  Servings_2015  Servings_2016  \\\n",
       "0    China/Hong Kong          44400          40430          38520   \n",
       "1          Indonesia          13430          13430          13010   \n",
       "2              Japan           5500           5540           5660   \n",
       "3              India           5430           3260           4270   \n",
       "4           Viet Nam           5000           4800           4920   \n",
       "5                USA           4280           4080           4100   \n",
       "6        Philippines           3320           3480           3410   \n",
       "7  Republic of Korea           3590           3650           3830   \n",
       "8           Thailand           3070           3070           3360   \n",
       "9             Brazil           2370           2370           2530   \n",
       "\n",
       "   Servings_2017  \n",
       "0          38970  \n",
       "1          12620  \n",
       "2           5660  \n",
       "3           5420  \n",
       "4           5060  \n",
       "5           4130  \n",
       "6           3750  \n",
       "7           3740  \n",
       "8           3390  \n",
       "9           2230  "
      ]
     },
     "execution_count": 3,
     "metadata": {},
     "output_type": "execute_result"
    }
   ],
   "source": [
    "from pandas.io.json import json_normalize\n",
    "\n",
    "data = pd.read_csv('data/Worldwide_InstantNoodleConsumption.csv')\n",
    "df = data.head(10)\n",
    "dfAll = data\n",
    "df"
   ]
  },
  {
   "cell_type": "code",
   "execution_count": null,
   "metadata": {},
   "outputs": [],
   "source": [
    "Antwort 2.3:"
   ]
  },
  {
   "cell_type": "code",
   "execution_count": 4,
   "metadata": {},
   "outputs": [
    {
     "data": {
      "text/plain": [
       "'<!DOCTYPE html>\\n<html lang=\"en\">\\n    <head>\\n        <meta charset=\"utf-8\" />\\n        <link href=\"https://cdnjs.cloudflare.com/ajax/libs/nvd3/1.7.0/nv.d3.min.css\" rel=\"stylesheet\" />\\n        <script src=\"https://cdnjs.cloudflare.com/ajax/libs/d3/3.5.5/d3.min.js\"></script>\\n        <script src=\"https://cdnjs.cloudflare.com/ajax/libs/nvd3/1.7.0/nv.d3.min.js\"></script>\\n    </head>\\n    <body>\\n        \\n    \\n\\n<h2>Worldwide Instantnoodle Consumption in 2017 in Million Servings</h2>\\n\\n<div id=\"noodle\"><svg style=\"width:1000px;height:1500px;\"></svg></div>\\n\\n\\n    <script>\\n\\n\\n\\n                data_noodle=[{\"values\": [{\"x\": \"China/Hong Kong\", \"y\": 38970}, {\"x\": \"Indonesia\", \"y\": 12620}, {\"x\": \"Japan\", \"y\": 5660}, {\"x\": \"India\", \"y\": 5420}, {\"x\": \"Viet Nam\", \"y\": 5060}, {\"x\": \"USA\", \"y\": 4130}, {\"x\": \"Philippines\", \"y\": 3750}, {\"x\": \"Republic of Korea\", \"y\": 3740}, {\"x\": \"Thailand\", \"y\": 3390}, {\"x\": \"Brazil\", \"y\": 2230}], \"key\": \"Serie 1\", \"yAxis\": \"1\"}];\\n\\n\\n            nv.addGraph(function() {\\n        var chart = nv.models.discreteBarChart();\\n\\n        chart.margin({top: 30, right: 60, bottom: 20, left: 60});\\n\\n        var datum = data_noodle;\\n\\n        chart.color(d3.scale.category20c().range());\\n\\n\\n                    chart.yAxis\\n                .tickFormat(d3.format(\\',.0f\\'));\\n\\n    \\n    \\n\\n        \\n\\n\\n\\n            d3.select(\\'#noodle svg\\')\\n            .datum(datum)\\n            .transition().duration(500)\\n            .attr(\\'width\\', 1000)\\n            .attr(\\'height\\', 1500)\\n            .call(chart);\\n\\n    \\n        });\\n\\n\\n\\n    </script>\\n\\n    </body>\\n</html>'"
      ]
     },
     "metadata": {},
     "output_type": "display_data"
    }
   ],
   "source": [
    "from nvd3 import discreteBarChart\n",
    "type = \"Worldwide Instantnoodle Consumption in 2017 in Million Servings\"\n",
    "noodleChart = discreteBarChart(name='noodle', height=1500, width=1000, color_category=\"category20c\")\n",
    "noodleChart.set_containerheader(\"\\n\\n<h2>\" + type + \"</h2>\\n\\n\")\n",
    "\n",
    "xdata = []\n",
    "ydata = []\n",
    "\n",
    "noodleChart.add_serie( y=df.Servings_2017, x=df.Location)\n",
    "extra_serie = {\"tooltip\": {\"y_start\": \"\", \"y_end\": \" cal\"}}\n",
    "noodleChart.buildhtml()\n",
    "charttop_html = noodleChart.htmlcontent\n",
    "display (noodleChart.htmlcontent)"
   ]
  },
  {
   "cell_type": "code",
   "execution_count": 6,
   "metadata": {
    "scrolled": false
   },
   "outputs": [
    {
     "data": {
      "text/html": [
       "<!DOCTYPE html>\n",
       "<html lang=\"en\">\n",
       "    <head>\n",
       "        <meta charset=\"utf-8\" />\n",
       "        <link href=\"https://cdnjs.cloudflare.com/ajax/libs/nvd3/1.7.0/nv.d3.min.css\" rel=\"stylesheet\" />\n",
       "        <script src=\"https://cdnjs.cloudflare.com/ajax/libs/d3/3.5.5/d3.min.js\"></script>\n",
       "        <script src=\"https://cdnjs.cloudflare.com/ajax/libs/nvd3/1.7.0/nv.d3.min.js\"></script>\n",
       "    </head>\n",
       "    <body>\n",
       "        \n",
       "    \n",
       "\n",
       "<h2>Worldwide Instantnoodle Consumption in 2017 in Million Servings</h2>\n",
       "\n",
       "<div id=\"noodle\"><svg style=\"width:1000px;height:1500px;\"></svg></div>\n",
       "\n",
       "\n",
       "    <script>\n",
       "\n",
       "\n",
       "\n",
       "                data_noodle=[{\"values\": [{\"x\": \"China/Hong Kong\", \"y\": 38970}, {\"x\": \"Indonesia\", \"y\": 12620}, {\"x\": \"Japan\", \"y\": 5660}, {\"x\": \"India\", \"y\": 5420}, {\"x\": \"Viet Nam\", \"y\": 5060}, {\"x\": \"USA\", \"y\": 4130}, {\"x\": \"Philippines\", \"y\": 3750}, {\"x\": \"Republic of Korea\", \"y\": 3740}, {\"x\": \"Thailand\", \"y\": 3390}, {\"x\": \"Brazil\", \"y\": 2230}], \"key\": \"Serie 1\", \"yAxis\": \"1\"}];\n",
       "\n",
       "\n",
       "            nv.addGraph(function() {\n",
       "        var chart = nv.models.discreteBarChart();\n",
       "\n",
       "        chart.margin({top: 30, right: 60, bottom: 20, left: 60});\n",
       "\n",
       "        var datum = data_noodle;\n",
       "\n",
       "        chart.color(d3.scale.category20c().range());\n",
       "\n",
       "\n",
       "                    chart.yAxis\n",
       "                .tickFormat(d3.format(',.0f'));\n",
       "\n",
       "    \n",
       "    \n",
       "\n",
       "        \n",
       "\n",
       "\n",
       "\n",
       "            d3.select('#noodle svg')\n",
       "            .datum(datum)\n",
       "            .transition().duration(500)\n",
       "            .attr('width', 1000)\n",
       "            .attr('height', 1500)\n",
       "            .call(chart);\n",
       "\n",
       "    \n",
       "        });\n",
       "\n",
       "\n",
       "\n",
       "    </script>\n",
       "\n",
       "    </body>\n",
       "</html>"
      ],
      "text/plain": [
       "<IPython.core.display.HTML object>"
      ]
     },
     "metadata": {},
     "output_type": "display_data"
    }
   ],
   "source": [
    "from IPython.display import display, HTML\n",
    "display(HTML(charttop_html))"
   ]
  },
  {
   "cell_type": "markdown",
   "metadata": {},
   "source": [
    "Antwort 2.4:"
   ]
  },
  {
   "cell_type": "code",
   "execution_count": 11,
   "metadata": {},
   "outputs": [
    {
     "data": {
      "text/html": [
       "<div>\n",
       "<style scoped>\n",
       "    .dataframe tbody tr th:only-of-type {\n",
       "        vertical-align: middle;\n",
       "    }\n",
       "\n",
       "    .dataframe tbody tr th {\n",
       "        vertical-align: top;\n",
       "    }\n",
       "\n",
       "    .dataframe thead th {\n",
       "        text-align: right;\n",
       "    }\n",
       "</style>\n",
       "<table border=\"1\" class=\"dataframe\">\n",
       "  <thead>\n",
       "    <tr style=\"text-align: right;\">\n",
       "      <th></th>\n",
       "      <th>Location</th>\n",
       "      <th>Servings_2014</th>\n",
       "      <th>Servings_2015</th>\n",
       "      <th>Servings_2016</th>\n",
       "      <th>Servings_2017</th>\n",
       "    </tr>\n",
       "  </thead>\n",
       "  <tbody>\n",
       "    <tr>\n",
       "      <th>23</th>\n",
       "      <td>Poland</td>\n",
       "      <td>300</td>\n",
       "      <td>310</td>\n",
       "      <td>310</td>\n",
       "      <td>310</td>\n",
       "    </tr>\n",
       "    <tr>\n",
       "      <th>28</th>\n",
       "      <td>Germany</td>\n",
       "      <td>180</td>\n",
       "      <td>190</td>\n",
       "      <td>200</td>\n",
       "      <td>200</td>\n",
       "    </tr>\n",
       "  </tbody>\n",
       "</table>\n",
       "</div>"
      ],
      "text/plain": [
       "   Location  Servings_2014  Servings_2015  Servings_2016  Servings_2017\n",
       "23   Poland            300            310            310            310\n",
       "28  Germany            180            190            200            200"
      ]
     },
     "execution_count": 11,
     "metadata": {},
     "output_type": "execute_result"
    }
   ],
   "source": [
    "gerPol = (dfAll[(dfAll.Location ==\"Germany\") | (dfAll.Location==\"Poland\")])\n",
    "gerPol"
   ]
  },
  {
   "cell_type": "code",
   "execution_count": 13,
   "metadata": {
    "scrolled": false
   },
   "outputs": [
    {
     "data": {
      "text/html": [
       "<!DOCTYPE html>\n",
       "<html lang=\"en\">\n",
       "    <head>\n",
       "        <meta charset=\"utf-8\" />\n",
       "        <link href=\"https://cdnjs.cloudflare.com/ajax/libs/nvd3/1.7.0/nv.d3.min.css\" rel=\"stylesheet\" />\n",
       "        <script src=\"https://cdnjs.cloudflare.com/ajax/libs/d3/3.5.5/d3.min.js\"></script>\n",
       "        <script src=\"https://cdnjs.cloudflare.com/ajax/libs/nvd3/1.7.0/nv.d3.min.js\"></script>\n",
       "    </head>\n",
       "    <body>\n",
       "        \n",
       "    \n",
       "\n",
       "<h2>Verzehr von Instantnudeln von Deutschland im Gegensatz zu Polen im Zeitraum von 2014 bis 2017 in Millionen Portionen </h2>\n",
       "\n",
       "<div id=\"multibarchart\"><svg style=\"width:800px;height:800px;\"></svg></div>\n",
       "\n",
       "\n",
       "    <script>\n",
       "\n",
       "\n",
       "\n",
       "        data_multibarchart=[{\"values\": [{\"x\": \"Servings 2014\", \"y\": 300}, {\"x\": \"Servings 2015\", \"y\": 310}, {\"x\": \"Servings 2016\", \"y\": 310}, {\"x\": \"Servings 2017\", \"y\": 310}], \"key\": \"Germany\", \"yAxis\": \"1\"}, {\"values\": [{\"x\": \"Servings 2014\", \"y\": 180}, {\"x\": \"Servings 2015\", \"y\": 190}, {\"x\": \"Servings 2016\", \"y\": 200}, {\"x\": \"Servings 2017\", \"y\": 200}], \"key\": \"Poland\", \"yAxis\": \"1\"}];\n",
       "\n",
       "    nv.addGraph(function() {\n",
       "        var chart = nv.models.multiBarChart();\n",
       "\n",
       "        chart.margin({top: 30, right: 60, bottom: 20, left: 60});\n",
       "\n",
       "        var datum = data_multibarchart;\n",
       "\n",
       "\n",
       "\n",
       "\n",
       "\n",
       "            chart.yAxis\n",
       "                .tickFormat(d3.format(',.2f'));\n",
       "\n",
       "\n",
       "      chart.showLegend(true);\n",
       "\n",
       "\n",
       "\n",
       "        \n",
       "\n",
       "\n",
       "        d3.select('#multibarchart svg')\n",
       "            .datum(datum)\n",
       "            .transition().duration(500)\n",
       "            .attr('width', 800)\n",
       "            .attr('height', 800)\n",
       "            .call(chart);\n",
       "\n",
       "\n",
       "    });\n",
       "\n",
       "\n",
       "\n",
       "\n",
       "    </script>\n",
       "\n",
       "    </body>\n",
       "</html>"
      ],
      "text/plain": [
       "<IPython.core.display.HTML object>"
      ]
     },
     "metadata": {},
     "output_type": "display_data"
    }
   ],
   "source": [
    "from nvd3 import multiBarChart\n",
    "chart = multiBarChart(width=800, height=800, x_axis_format=None)\n",
    "type =\"Verzehr von Instantnudeln von Deutschland im Gegensatz zu Polen im Zeitraum von 2014 bis 2017 in Millionen Portionen \"\n",
    "xdata = [\"Servings 2014\", \"Servings 2015\", \"Servings 2016\", \"Servings 2017\"]\n",
    "ydata1 = [300,310,310,310]\n",
    "ydata2 = [180,190,200,200]\n",
    "chart.set_containerheader(\"\\n\\n<h2>\" + type + \"</h2>\\n\\n\")\n",
    "chart.add_serie( name=\"Germany\", y=ydata1, x=xdata)\n",
    "chart.add_serie(name=\"Poland\", y=ydata2, x=xdata)\n",
    "chart.buildhtml()\n",
    "chart_html = chart.htmlcontent\n",
    "from IPython.display import display, HTML\n",
    "display(HTML(chart_html))"
   ]
  },
  {
   "cell_type": "markdown",
   "metadata": {},
   "source": [
    "## Aufgabe 3 - plotly\n",
    "> 3.1 Binden Sie alle notwendigen Bibliotheken ein und erstellen Sie eine Heatmap, welche für eine Woche (Mo, Di,...,So) jeweils zu 3 Tageszeiten (morgens, mittags, abends) Temperaturen in Grad Celsius Darstellt. <br>\n",
    "Die Temperaturen dürfen manuell eingetragen werden. <br>\n",
    "Falls Sie sich keinen plotly Account erstellen möchten, dürfen Sie gerne meine Credentials verwenden: <br>"
   ]
  },
  {
   "cell_type": "code",
   "execution_count": 9,
   "metadata": {},
   "outputs": [],
   "source": [
    "#plotly.tools.set_credentials_file(username='ThalerF', api_key='IMzec5DXDSp3NNvYrqxP')"
   ]
  },
  {
   "cell_type": "code",
   "execution_count": 140,
   "metadata": {},
   "outputs": [],
   "source": [
    "import plotly\n",
    "plotly.tools.set_credentials_file(username='ThalerF', api_key='IMzec5DXDSp3NNvYrqxP')"
   ]
  },
  {
   "cell_type": "code",
   "execution_count": 222,
   "metadata": {
    "scrolled": false
   },
   "outputs": [
    {
     "data": {
      "text/html": [
       "<iframe id=\"igraph\" scrolling=\"no\" style=\"border:none;\" seamless=\"seamless\" src=\"https://plot.ly/~ThalerF/10.embed\" height=\"525px\" width=\"100%\"></iframe>"
      ],
      "text/plain": [
       "<plotly.tools.PlotlyDisplay object>"
      ]
     },
     "execution_count": 222,
     "metadata": {},
     "output_type": "execute_result"
    }
   ],
   "source": [
    "import plotly.plotly as py\n",
    "import plotly.graph_objs as go\n",
    "\n",
    "trace = go.Heatmap(z=[[13,10,12,9,14], [20,18,25,22,30], [26,22,20,11,20]],\n",
    "                   x=['Montag', 'Dienstag', 'Mittwoch', 'Donnerstag', 'Freitag'],\n",
    "                   y=['Morgens', 'Mittags', 'Abends'])\n",
    "data=[trace]\n",
    "layout = go.Layout(\n",
    "    title='Temperaturen in Grad Celsius nach Wochentagen und Tageszeiten ')\n",
    "fig = go.Figure(data=data, layout=layout)\n",
    "py.iplot(fig, filename='labelled-heatmap')"
   ]
  }
 ],
 "metadata": {
  "kernelspec": {
   "display_name": "Python 3",
   "language": "python",
   "name": "python3"
  },
  "language_info": {
   "codemirror_mode": {
    "name": "ipython",
    "version": 3
   },
   "file_extension": ".py",
   "mimetype": "text/x-python",
   "name": "python",
   "nbconvert_exporter": "python",
   "pygments_lexer": "ipython3",
   "version": "3.6.4"
  }
 },
 "nbformat": 4,
 "nbformat_minor": 2
}
