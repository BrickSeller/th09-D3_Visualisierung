{
 "cells": [
  {
   "cell_type": "markdown",
   "metadata": {},
   "source": [
    "# <center> Visualisierungen mit D3</center>\n",
    "\n"
   ]
  },
  {
   "cell_type": "markdown",
   "metadata": {},
   "source": [
    "> ## Inhalt\n",
    "> 1) Bedeutung der Datenvisualisierung\n",
    "\n",
    "> 2) Was ist D3?\n",
    "\n",
    "> 3) Warum D3?\n",
    "\n",
    "> 4) Wie wird D3 angewendet?\n",
    "\n",
    "> 5) Wie kann D3 in Verbindung mit Python verwendet werden?\n",
    "\n",
    ">>    5.1) nvd3\n",
    "\n",
    ">>    5.2) plotly\n",
    "\n",
    ">>    5.3) mpld3\n",
    "\n"
   ]
  },
  {
   "cell_type": "markdown",
   "metadata": {},
   "source": [
    "## Bedeutung der Datenvisualisierung\n",
    "\n",
    "**„Ein Bild sagt mehr als tausend Worte.“** <br>\n",
    "Ziel der Datenvisualisierung ist es, etwas Neues über die zugrundeliegenden \n",
    "Muster und Beziehungen, die in Daten enthalten sind, herauszufinden. <br>\n",
    "Die Visualisierung muss nicht nur gut aussehen, sondern auch aussagekräftig sein, denn so können diese bei der Entscheidungsfindung helfen.\n",
    "Mithilfe von Visualisierungen ist es relativ einfach einen komplexen Datensatz (klein oder groß) zu erfoschen und zu beschreiben. <br>\n",
    "**Es stehen viele Arten der von Datenvisualisierungen zur Verfügung. Dazu gehören unter anderem:**\n",
    "* Balkendiagramme\n",
    "* Histogramme\n",
    "* Liniendiagramm\n",
    "* Tortendiagramm\n",
    "* Wärmekarten\n",
    "* Wordles\n",
    "* usw. <br>\n",
    "\n",
    "Die Datenvisualisierung ist somit ein wichtiger Bestandteil des Datenanalyseprozesses. Sie ermöglicht es, schnell eine explorative Datenanalyse durchzuführen und diese grafisch darzustellen.<br>\n",
    "<!-- vielleicht könnte noch kurz erklärt werden, um was genau es sich bei der explorativen Datenanalyse handelt -->\n",
    "\n",
    "**Die Ziele der explorativen Datenanalyse sind unter Anderem :** \n",
    "* Erkennung von Datenfehlern\n",
    "* Überprüfung von Annahmen\n",
    "* Suche nach versteckten Muster\n",
    "* Vorauswahl geeigneter Modelle\n",
    "* Ermittlung von Beziehungen <br>\n",
    "\n",
    "**Wichtige Fragen die es vor der Visualisierung zu beantworten gibt:**\n",
    "* **Wie werden die Ergebnisse präsentiert?**\n",
    " * tabelarisch\n",
    " * 2D-Diagramme\n",
    " * 3D-Diagramme\n",
    " * Infografiken\n",
    " * usw.\n",
    "* **Wo werden die Ergebnisse präsentiert?**\n",
    " * im Printformat\n",
    " * als Poster\n",
    " * mobilen Geräten\n",
    " * Desktop-PCs\n",
    " * im Internet\n",
    " \n",
    "## Erfolgreich Visualisieren \n",
    "\n",
    "**Success Regeln von Prof. Rolf Hichert**\n",
    "* **<span style=\"color:red\">S</span>AY** Botschaft vermitteln\n",
    "* **<span style=\"color:red\">U</span>NIFY** Darstellung vereinheitlichen\n",
    "* **<span style=\"color:red\">C</span>ONDENSE** Information verdichten\n",
    "* **<span style=\"color:red\">C</span>HECK** Richtigkeit sicherstellen\n",
    "* **<span style=\"color:red\">E</span>NABLE** SUCCESS anwenden\n",
    "* **<span style=\"color:red\">S</span>IMPLIFY** Darstellung vereinfachen\n",
    "* **<span style=\"color:red\">S</span>TRUCTURE** Inhalte gliedern\n",
    "\n",
    "## Was ist D3?\n",
    "D3 ist eine JavaScript-Bibliothek zum Manipulieren von HTML-Dokumenten auf Basis von Daten und setzt\n",
    "dabei auf die Web-Standards HTML, SVG und CSS. Mit D3 lassen sich Daten mit grafischen Elementen (SVGs) im Browser kombinieren und diese so auf vielfältige Art und weise visualisieren.\n",
    "Da D3 auf HTML5 und CSS3 basiert, wird ein moderner Browser benötigt(z.B. Firefox oder Chrome).\n",
    "D3 ist keine Chart-Engine, bei der man fertige Layouts auswählt und konfiguriert. <!-- sondern? -->\n",
    "Enwtickelt wurde D3 von der Standford Visualization Group, wobei die 3 Ds für **D**ata-**D**riven **D**ocuments stehen. <br>\n",
    "Mit D3 lassen sich Visualisierungen erstellen, die komplexe Informationen leichter verständlich machen. So lassen sich mit D3 zb. Proportionen, Beziehungen, Korrelationen, Muster sowie vieles weitere, herausfinden.<br>\n",
    "Mit D3 können sowohl einfache Balkendiagramme, als auch komplexe Visualisierungen erstellt werden - hauptsächlich durch eine Änderung der DOM-Struktur. \n",
    "* Das DOM (Document Object Model) ist die Schnittstelle zwischen HTML und dynamischem JavaScript. Alle Elemente      werden zu Objekten, die dynamisch aufgerufen, verändert, hinzugefügt und gelöscht werden können.\n",
    "\n",
    "## Warum D3?\n",
    "Datenvisualisierungen im Web sind an sich nichts Neues, doch durch die ständige Weiterentwicklung können immer größere und bessere Visualisierungen erstellt werden. Mittlerweile gibt es einige JavaScript-Bibliotheken, die sich für solche Zwecke bestens eignen. Dazu gehört auch D3. <br>\n",
    "Durch seinen Data-Join-Ansatz ist D3 im Verhältnis zu anderen Bibliotheken auch bei großen Datenmengen sehr schnell.<br>\n",
    "Aufgrund der Unterstützung von Webstandards ist D3 zukunftssicher und auch auf mobilen Geräten lauffähig. <br>\n",
    "D3 kennt alle üblichen Charts und beim Anblick der Startseite von  <a href=\"https://d3js.org\">D3</a> wird klar,     dass es wohl keine Grenzen bei der Umsetzung zu geben scheint.<br>\n",
    "\n",
    "### SVG\n",
    "SVG steht für „Scalable Vector Graphics“ und basiert auf XML. Die zweidimensionalen SVG-Zeichnungselemente haben gegenüber Raster-Grafiken den Vorteil, verlustfrei skaliert werden zu können. Ihnen fehlt also\n",
    "der berühmte Treppenstufen-Effekt, der bei extremer Vergrößerung in Raster-Formaten auftritt. SVG im Browser wurde im Rahmen von HTML5 standardisiert. <br>\n",
    "Im Gegensatz zu HTML-Elementen, die im Grunde nur die Rechteckform kennen, gibt es bei SVG-Elementen Pfade und zur einfacheren Handhabung alle grafischen Grundformen wie Kreis, Ellipse, Rechteck, Linie und Polygon. Zusätzlich kann man noch Text und externe Rastergrafiken verwenden.<br>\n",
    "\n",
    "![Einfaches SVG-Beispiel](img/svgBeispiel.png) <center> *Nach Gobrecht (2015), D3: Data Driven Document* </center>\n",
    "![Einfaches SVG-Beispiel](img/svgOutput.png) <center> *Nach Gobrecht (2015), D3: Data Driven Document* </center>\n",
    "\n",
    "Damit ist es möglich neue Blickwinkel auf vorhandene Statistiken zu bekommen. Ein weiterer Vorteil der interaktiven Datenvisualisierung ist die Einbindung von Live-Daten. So können bestimmte Änderungen und Trends aktueller Statistiken schneller wahrgenommen werden.\n",
    "\n",
    "Geschriebener Javascriptcode ist wiederverwendbar. Das bedeutet man kann nach belieben Funktionen hinzufügen.<br> \n",
    "Da Daten größtenteils gestaltet und manupuliert werden können, wird D3 so mächtig wie man selbst es möchte.\n",
    "## Wie wird D3 angewendet?\n",
    "**<center>index.html erstellen</center>**\n",
    "![Einfaches SVG-Beispiel](img/htmlD3.png) <center> *Nach Bostock (2015) <a href=\"https://bost.ocks.org/mike/bar/\">Let's make a bar chart</a>* </center> <br>\n",
    "**<center>index.css erstellen</center>**\n",
    "![Einfaches SVG-Beispiel](img/cssD3.png) <center> *Nach Bostock (2015) <a href=\"https://bost.ocks.org/mike/bar/\">Let's make a bar chart</a>* </center><br>\n",
    "**<center>index.js erstellen</center>**\n",
    "![Einfaches SVG-Beispiel](img/jsD31.png) <center> *Nach Bostock (2015) <a href=\"https://bost.ocks.org/mike/bar/\">Let's make a bar chart</a>* </center>\n",
    "![Einfaches SVG-Beispiel](img/jsD32.png) <center> *Nach Bostock (2015) <a href=\"https://bost.ocks.org/mike/bar/\">Let's make a bar chart</a>* </center><br>\n",
    "**<center>Ausgabe im Browser</center>**\n",
    "![Einfaches SVG-Beispiel](img/chartD3.png) <center> *Nach Bostock (2015) <a href=\"https://bost.ocks.org/mike/bar/\">Let's make a bar chart</a>* </center>\n",
    "\n",
    "Erstellt habe ich dieses kurze Beispiel mit  <a href=\"https://codepen.io/pen\">Codepen</a>.\n",
    "\n",
    "## Wie kann D3 in Verbindung mit Python verwendet werden?\n",
    "\n",
    "### nvd3\n",
    "Dieses Projekt ist ein Versuch wiederverwendbare Diagramme und Diagrammkomponenten für d3.js zu erstellen, ohne dabei die Leistung von d3.js zu verlieren. <br>\n",
    "Dies ist eine sehr junge Sammlung von Komponenten, mit dem Ziel, diese Komponenten sehr anpassungsfähig zu halten.\n",
    "\n",
    "https://github.com/novus/nvd3\n",
    "\n",
    "### Installation"
   ]
  },
  {
   "cell_type": "code",
   "execution_count": null,
   "metadata": {
    "scrolled": true
   },
   "outputs": [],
   "source": [
    "# sudo pip install python-nvd3\n",
    "# sudo pip install --upgrade python-nvd3\n",
    "# sudo pip uninstall python-nvd3\n",
    "\n",
    "# sudo easy_install python-nvd3"
   ]
  },
  {
   "cell_type": "markdown",
   "metadata": {},
   "source": [
    "### Gebrauch"
   ]
  },
  {
   "cell_type": "code",
   "execution_count": 13,
   "metadata": {},
   "outputs": [],
   "source": [
    "import numpy as np\n",
    "import nvd3"
   ]
  },
  {
   "cell_type": "code",
   "execution_count": 14,
   "metadata": {},
   "outputs": [
    {
     "data": {
      "text/html": [
       "<!DOCTYPE html>\n",
       "<html lang=\"en\">\n",
       "    <head>\n",
       "        <meta charset=\"utf-8\" />\n",
       "        <link href=\"https://cdnjs.cloudflare.com/ajax/libs/nvd3/1.7.0/nv.d3.min.css\" rel=\"stylesheet\" />\n",
       "        <script src=\"https://cdnjs.cloudflare.com/ajax/libs/d3/3.5.5/d3.min.js\"></script>\n",
       "        <script src=\"https://cdnjs.cloudflare.com/ajax/libs/nvd3/1.7.0/nv.d3.min.js\"></script>\n",
       "    </head>\n",
       "    <body>\n",
       "        \n",
       "    <div id=\"piechart\"><svg style=\"width:500px;height:500px;\"></svg></div>\n",
       "\n",
       "\n",
       "    <script>\n",
       "\n",
       "\n",
       "\n",
       "    data_piechart=[{\"values\": [{\"label\": \"\\u00c4pfel\", \"value\": 3}, {\"label\": \"Birnen\", \"value\": 4}, {\"label\": \"Avocados\", \"value\": 0}, {\"label\": \"Kiwis\", \"value\": 1}, {\"label\": \"Kirschen\", \"value\": 5}, {\"label\": \"Trauben\", \"value\": 7}, {\"label\": \"Orangen\", \"value\": 3}], \"key\": \"Serie 1\"}];\n",
       "\n",
       "    nv.addGraph(function() {\n",
       "        var chart = nv.models.pieChart();\n",
       "        chart.margin({top: 30, right: 60, bottom: 20, left: 60});\n",
       "        var datum = data_piechart[0].values;\n",
       "\n",
       "\n",
       "    chart.tooltipContent(function(key, y, e, graph) {\n",
       "          var x = String(key);\n",
       "              var y = String(graph.point.y);\n",
       "\n",
       "              tooltip_str = '<center><b>'+x+'</b></center>' + y;\n",
       "              return tooltip_str;\n",
       "              });\n",
       "        chart.showLabels(true);\n",
       "\n",
       "            chart.donut(false);\n",
       "\n",
       "    chart.showLegend(true);\n",
       "\n",
       "\n",
       "\n",
       "\n",
       "        chart\n",
       "            .x(function(d) { return d.label })\n",
       "            .y(function(d) { return d.value });\n",
       "\n",
       "        chart.width(500);\n",
       "\n",
       "        chart.height(500);\n",
       "\n",
       "\n",
       "            d3.select('#piechart svg')\n",
       "            .datum(datum)\n",
       "            .transition().duration(500)\n",
       "            .attr('width', 500)\n",
       "            .attr('height', 500)\n",
       "            .call(chart);\n",
       "\n",
       "\n",
       "        });\n",
       "\n",
       "\n",
       "\n",
       "    </script>\n",
       "\n",
       "    </body>\n",
       "</html>"
      ],
      "text/plain": [
       "<IPython.core.display.HTML object>"
      ]
     },
     "metadata": {},
     "output_type": "display_data"
    }
   ],
   "source": [
    "from nvd3 import pieChart\n",
    "chart_type = 'pieChart'\n",
    "type=\"pieChart\"\n",
    "chart = nvd3.pieChart(name=type, height=500, width=500)\n",
    "xdata = [\"Äpfel\", \"Birnen\", \"Avocados\", \"Kiwis\", \"Kirschen\", \"Trauben\", \"Orangen\"]\n",
    "ydata = [3, 4, 0, 1, 5, 7, 3]\n",
    "\n",
    "chart.add_serie(y=ydata, x=xdata)\n",
    "chart.buildhtml()\n",
    "chart_html = chart.htmlcontent\n",
    "from IPython.display import display, HTML\n",
    "display(HTML(chart_html))"
   ]
  },
  {
   "cell_type": "code",
   "execution_count": 11,
   "metadata": {},
   "outputs": [
    {
     "data": {
      "text/plain": [
       "'<!DOCTYPE html>\\n<html lang=\"en\">\\n    <head>\\n        <meta charset=\"utf-8\" />\\n        <link href=\"https://cdnjs.cloudflare.com/ajax/libs/nvd3/1.7.0/nv.d3.min.css\" rel=\"stylesheet\" />\\n        <script src=\"https://cdnjs.cloudflare.com/ajax/libs/d3/3.5.5/d3.min.js\"></script>\\n        <script src=\"https://cdnjs.cloudflare.com/ajax/libs/nvd3/1.7.0/nv.d3.min.js\"></script>\\n    </head>\\n    <body>\\n        \\n    <div id=\"piechart\"><svg style=\"width:500px;height:500px;\"></svg></div>\\n\\n\\n    <script>\\n\\n\\n\\n    data_piechart=[{\"values\": [{\"label\": \"\\\\u00c4pfel\", \"value\": 3}, {\"label\": \"Birnen\", \"value\": 4}, {\"label\": \"Avocados\", \"value\": 0}, {\"label\": \"Kiwis\", \"value\": 1}, {\"label\": \"Kirschen\", \"value\": 5}, {\"label\": \"Trauben\", \"value\": 7}, {\"label\": \"Orangen\", \"value\": 3}], \"key\": \"Serie 1\"}];\\n\\n    nv.addGraph(function() {\\n        var chart = nv.models.pieChart();\\n        chart.margin({top: 30, right: 60, bottom: 20, left: 60});\\n        var datum = data_piechart[0].values;\\n\\n\\n    chart.tooltipContent(function(key, y, e, graph) {\\n          var x = String(key);\\n              var y = String(graph.point.y);\\n\\n              tooltip_str = \\'<center><b>\\'+x+\\'</b></center>\\' + y;\\n              return tooltip_str;\\n              });\\n        chart.showLabels(true);\\n\\n            chart.donut(false);\\n\\n    chart.showLegend(true);\\n\\n\\n\\n\\n        chart\\n            .x(function(d) { return d.label })\\n            .y(function(d) { return d.value });\\n\\n        chart.width(500);\\n\\n        chart.height(500);\\n\\n\\n            d3.select(\\'#piechart svg\\')\\n            .datum(datum)\\n            .transition().duration(500)\\n            .attr(\\'width\\', 500)\\n            .attr(\\'height\\', 500)\\n            .call(chart);\\n\\n\\n        });\\n\\n\\n\\n    </script>\\n\\n    </body>\\n</html>'"
      ]
     },
     "execution_count": 11,
     "metadata": {},
     "output_type": "execute_result"
    }
   ],
   "source": [
    "chart_html"
   ]
  },
  {
   "cell_type": "markdown",
   "metadata": {},
   "source": [
    "### Mit folgenden Keywords können die Charts manipuliert werden:\n",
    "\n",
    "* display_container - standard: True\t\n",
    "* charttooltip_dateformat - standard: '%d %b %Y'\n",
    "* name - standard: '' (z.B. pieChart, LineWithFocusChart, MultiBarChart).\n",
    "* color_category - standard - None\t\n",
    "* color_list - standard - None used by pieChart (e.g. ['red', 'blue', 'orange'])\t\n",
    "* margin_bottom - standard - 20\t\n",
    "* margin_left - standard - 60\t\n",
    "* margin_right - standard - 60\t\n",
    "* margin_top - standard - 30\n",
    "* height - standard - ''\n",
    "* width - standard - ''\n",
    "* show_controls - standard - True\n",
    "* show_legend - standard - True\n",
    "* show_labels - standard - True\t\n",
    "* extras - standard - None\n",
    "* color_category - standad - category10 \n",
    " * category20\n",
    " * category20c\n",
    "\n",
    "**Weitere Modifikationsmöglichkeiten finden sich <a href=\"http://python-nvd3.readthedocs.io/en/latest/classes-doc/NVD3Chart.html\">hier</a>.**\n",
    "\n",
    "\n",
    "\n",
    "\n"
   ]
  },
  {
   "cell_type": "code",
   "execution_count": 9,
   "metadata": {},
   "outputs": [
    {
     "data": {
      "text/html": [
       "<!DOCTYPE html>\n",
       "<html lang=\"en\">\n",
       "    <head>\n",
       "        <meta charset=\"utf-8\" />\n",
       "        <link href=\"https://cdnjs.cloudflare.com/ajax/libs/nvd3/1.7.0/nv.d3.min.css\" rel=\"stylesheet\" />\n",
       "        <script src=\"https://cdnjs.cloudflare.com/ajax/libs/d3/3.5.5/d3.min.js\"></script>\n",
       "        <script src=\"https://cdnjs.cloudflare.com/ajax/libs/nvd3/1.7.0/nv.d3.min.js\"></script>\n",
       "    </head>\n",
       "    <body>\n",
       "        \n",
       "    \n",
       "\n",
       "<h2>Beispiel: Ausgewählte Obststorten in Stück</h2>\n",
       "\n",
       "<div id=\"beispiel_ausgewahlte_obststorten_in_stuck\"><svg style=\"width:500px;height:500px;\"></svg></div>\n",
       "\n",
       "\n",
       "    <script>\n",
       "\n",
       "\n",
       "\n",
       "    data_beispiel_ausgewahlte_obststorten_in_stuck=[{\"values\": [{\"label\": \"\\u00c4pfel\", \"value\": 3}, {\"label\": \"Birnen\", \"value\": 4}, {\"label\": \"Avocados\", \"value\": 0}, {\"label\": \"Kiwis\", \"value\": 1}, {\"label\": \"Kirschen\", \"value\": 5}, {\"label\": \"Trauben\", \"value\": 7}, {\"label\": \"Orangen\", \"value\": 3}], \"key\": \"Serie 1\"}];\n",
       "\n",
       "    nv.addGraph(function() {\n",
       "        var chart = nv.models.pieChart();\n",
       "        chart.margin({top: 30, right: 60, bottom: 20, left: 60});\n",
       "        var datum = data_beispiel_ausgewahlte_obststorten_in_stuck[0].values;\n",
       "\n",
       "\n",
       "    chart.tooltipContent(function(key, y, e, graph) {\n",
       "          var x = String(key);\n",
       "              var y = String(graph.point.y);\n",
       "\n",
       "              tooltip_str = '<center><b>'+x+'</b></center>' + y;\n",
       "              return tooltip_str;\n",
       "              });\n",
       "        chart.showLabels(true);\n",
       "\n",
       "            chart.donut(false);\n",
       "\n",
       "    chart.showLegend(false);\n",
       "\n",
       "\n",
       "\n",
       "\n",
       "        chart\n",
       "            .x(function(d) { return d.label })\n",
       "            .y(function(d) { return d.value });\n",
       "\n",
       "        chart.width(500);\n",
       "\n",
       "        chart.height(500);\n",
       "\n",
       "\n",
       "            d3.select('#beispiel_ausgewahlte_obststorten_in_stuck svg')\n",
       "            .datum(datum)\n",
       "            .transition().duration(500)\n",
       "            .attr('width', 500)\n",
       "            .attr('height', 500)\n",
       "            .call(chart);\n",
       "\n",
       "\n",
       "        });\n",
       "\n",
       "\n",
       "\n",
       "    </script>\n",
       "\n",
       "    </body>\n",
       "</html>"
      ],
      "text/plain": [
       "<IPython.core.display.HTML object>"
      ]
     },
     "metadata": {},
     "output_type": "display_data"
    }
   ],
   "source": [
    "from nvd3 import pieChart\n",
    "type=\"Beispiel: Ausgewählte Obststorten in Stück\"\n",
    "chart = nvd3.pieChart(name=type, height=500, width=500,show_labels=\"true\", show_legend=\"false\")\n",
    "xdata = [\"Äpfel\", \"Birnen\", \"Avocados\", \"Kiwis\", \"Kirschen\", \"Trauben\", \"Orangen\"]\n",
    "ydata = [3, 4, 0, 1, 5, 7, 3]\n",
    "chart.set_containerheader(\"\\n\\n<h2>\" + type + \"</h2>\\n\\n\")\n",
    "chart.add_serie(y=ydata, x=xdata)\n",
    "chart.buildhtml()\n",
    "chart_html = chart.htmlcontent\n",
    "from IPython.display import display, HTML\n",
    "display(HTML(chart_html))"
   ]
  },
  {
   "cell_type": "code",
   "execution_count": 15,
   "metadata": {},
   "outputs": [
    {
     "data": {
      "text/html": [
       "<!DOCTYPE html>\n",
       "<html lang=\"en\">\n",
       "    <head>\n",
       "        <meta charset=\"utf-8\" />\n",
       "        <link href=\"https://cdnjs.cloudflare.com/ajax/libs/nvd3/1.7.0/nv.d3.min.css\" rel=\"stylesheet\" />\n",
       "        <script src=\"https://cdnjs.cloudflare.com/ajax/libs/d3/3.5.5/d3.min.js\"></script>\n",
       "        <script src=\"https://cdnjs.cloudflare.com/ajax/libs/nvd3/1.7.0/nv.d3.min.js\"></script>\n",
       "    </head>\n",
       "    <body>\n",
       "        \n",
       "    \n",
       "\n",
       "<h2>Beispiel: Anzahl Studierender Wirtschaftsinformatik über Regelstudienzeit</h2>\n",
       "\n",
       "<div id=\"discretebarchart\"><svg style=\"width:800px;height:400px;\"></svg></div>\n",
       "\n",
       "\n",
       "    <script>\n",
       "\n",
       "\n",
       "\n",
       "                data_discretebarchart=[{\"values\": [{\"x\": \"1.Semester\", \"y\": 70}, {\"x\": \"2.Semester\", \"y\": 60}, {\"x\": \"3.Semester\", \"y\": 50}, {\"x\": \"4.Semester\", \"y\": 40}, {\"x\": \"5.Semester\", \"y\": 30}, {\"x\": \"6.Semester\", \"y\": 20}, {\"x\": \"7.Semester\", \"y\": 10}], \"key\": \"Serie 1\", \"yAxis\": \"1\"}];\n",
       "\n",
       "\n",
       "            nv.addGraph(function() {\n",
       "        var chart = nv.models.discreteBarChart();\n",
       "\n",
       "        chart.margin({top: 30, right: 60, bottom: 20, left: 60});\n",
       "\n",
       "        var datum = data_discretebarchart;\n",
       "\n",
       "        chart.color(d3.scale.category20c().range());\n",
       "\n",
       "\n",
       "                    chart.yAxis\n",
       "                .tickFormat(d3.format(',.0f'));\n",
       "\n",
       "    \n",
       "    \n",
       "\n",
       "        \n",
       "\n",
       "\n",
       "\n",
       "            d3.select('#discretebarchart svg')\n",
       "            .datum(datum)\n",
       "            .transition().duration(500)\n",
       "            .attr('width', 800)\n",
       "            .attr('height', 400)\n",
       "            .call(chart);\n",
       "\n",
       "    \n",
       "        });\n",
       "\n",
       "\n",
       "\n",
       "    </script>\n",
       "\n",
       "    </body>\n",
       "</html>"
      ],
      "text/plain": [
       "<IPython.core.display.HTML object>"
      ]
     },
     "metadata": {},
     "output_type": "display_data"
    }
   ],
   "source": [
    "from nvd3 import discreteBarChart\n",
    "chart = discreteBarChart(name='discreteBarChart', height=400, width=800, color_category=\"category20c\")\n",
    "type = \"Beispiel: Anzahl Studierender Wirtschaftsinformatik über Regelstudienzeit\"\n",
    "xdata = [\"1.Semester\", \"2.Semester\", \"3.Semester\", \"4.Semester\", \"5.Semester\", \"6.Semester\", \"7.Semester\"]\n",
    "ydata = [70, 60, 50, 40, 30, 20, 10]\n",
    "chart.set_containerheader(\"\\n\\n<h2>\" + type + \"</h2>\\n\\n\")\n",
    "chart.add_serie(y=ydata, x=xdata)\n",
    "chart.buildhtml()\n",
    "chart_html = chart.htmlcontent\n",
    "from IPython.display import display, HTML\n",
    "display(HTML(chart_html))"
   ]
  },
  {
   "cell_type": "code",
   "execution_count": null,
   "metadata": {
    "scrolled": false
   },
   "outputs": [],
   "source": [
    "from nvd3 import multiBarChart\n",
    "chart = multiBarChart(width=1000, height=800, x_axis_format=None)\n",
    "type =\"Beispiel: Anzahl Studierender WIF im Vergleich zu DSM über Regelstudienzeit\"\n",
    "xdata = [\"1.Semester\", \"2.Semester\", \"3.Semester\", \"4.Semester\", \"5.Semester\", \"6.Semester\", \"7.Semester\"]\n",
    "ydata1 = [70, 60, 50, 40, 30, 20, 10]\n",
    "ydata2 = [50, 45, 40, 35, 30, 25, 20]\n",
    "chart.set_containerheader(\"\\n\\n<h2>\" + type + \"</h2>\\n\\n\")\n",
    "chart.add_serie(name=\"WIF\", y=ydata1, x=xdata)\n",
    "chart.add_serie(name=\"DSM\", y=ydata2, x=xdata)\n",
    "chart.buildhtml()\n",
    "chart_html = chart.htmlcontent\n",
    "from IPython.display import display, HTML\n",
    "display(HTML(chart_html))"
   ]
  },
  {
   "cell_type": "code",
   "execution_count": 17,
   "metadata": {},
   "outputs": [
    {
     "data": {
      "text/html": [
       "\n",
       "    \n",
       "\n",
       "<h2>Beispiel: Anzahl Besucher des Tierparks Ulm zwischen April und Juli 2017</h2>\n",
       "\n",
       "<div id=\"multibarhorizontalchart\"><svg style=\"width:1000px;height:500px;\"></svg></div>\n",
       "\n",
       "\n",
       "    <script>\n",
       "\n",
       "\n",
       "\n",
       "        data_multibarhorizontalchart=[{\"values\": [{\"x\": \"April\", \"y\": 100}, {\"x\": \"Mai\", \"y\": 200}, {\"x\": \"Juni\", \"y\": 400}, {\"x\": \"Juli\", \"y\": 325}], \"key\": \"Unter 18 Jahren\", \"yAxis\": \"1\"}, {\"values\": [{\"x\": \"April\", \"y\": 60}, {\"x\": \"Mai\", \"y\": 45}, {\"x\": \"Juni\", \"y\": 350}, {\"x\": \"Juli\", \"y\": 212}], \"key\": \"\\u00dcber 18 Jahren\", \"yAxis\": \"1\"}];\n",
       "\n",
       "    nv.addGraph(function() {\n",
       "        var chart = nv.models.multiBarHorizontalChart();\n",
       "\n",
       "        chart.margin({top: 30, right: 60, bottom: 20, left: 60});\n",
       "\n",
       "        var datum = data_multibarhorizontalchart;\n",
       "\n",
       "\n",
       "\n",
       "\n",
       "\n",
       "            chart.yAxis\n",
       "                .tickFormat(d3.format(',.2f'));\n",
       "\n",
       "\n",
       "      chart.showLegend(true);\n",
       "\n",
       "\n",
       "\n",
       "        \n",
       "\n",
       "\n",
       "        d3.select('#multibarhorizontalchart svg')\n",
       "            .datum(datum)\n",
       "            .transition().duration(500)\n",
       "            .attr('width', 1000)\n",
       "            .attr('height', 500)\n",
       "            .call(chart);\n",
       "\n",
       "\n",
       "    });\n",
       "\n",
       "\n",
       "\n",
       "\n",
       "    </script>\n"
      ],
      "text/plain": [
       "<IPython.core.display.HTML object>"
      ]
     },
     "metadata": {},
     "output_type": "display_data"
    }
   ],
   "source": [
    "from nvd3 import multiBarHorizontalChart\n",
    "chart = multiBarHorizontalChart(name='multiBarHorizontalChart', height=500, width=1000, x_axis_format=None, show_legend=\"true\")\n",
    "type =\"Beispiel: Anzahl Besucher des Tierparks Ulm zwischen April und Juli 2017\"\n",
    "xdata = [\"April\",\"Mai\", \"Juni\", \"Juli\"]\n",
    "y1data = [100, 200, 400, 325]\n",
    "y2data=[60,45,350,212]\n",
    "chart.set_containerheader(\"\\n\\n<h2>\" + type + \"</h2>\\n\\n\")\n",
    "chart.add_serie(name=\"Unter 18 Jahren\", y=y1data, x=xdata)\n",
    "chart.add_serie(name=\"Über 18 Jahren\", y=y2data, x=xdata)\n",
    "chart.buildcontent()\n",
    "chart_html = chart.htmlcontent\n",
    "from IPython.display import display, HTML\n",
    "display(HTML(chart_html))"
   ]
  },
  {
   "cell_type": "code",
   "execution_count": 18,
   "metadata": {},
   "outputs": [
    {
     "data": {
      "text/html": [
       "<!DOCTYPE html>\n",
       "<html lang=\"en\">\n",
       "    <head>\n",
       "        <meta charset=\"utf-8\" />\n",
       "        <link href=\"https://cdnjs.cloudflare.com/ajax/libs/nvd3/1.7.0/nv.d3.min.css\" rel=\"stylesheet\" />\n",
       "        <script src=\"https://cdnjs.cloudflare.com/ajax/libs/d3/3.5.5/d3.min.js\"></script>\n",
       "        <script src=\"https://cdnjs.cloudflare.com/ajax/libs/nvd3/1.7.0/nv.d3.min.js\"></script>\n",
       "    </head>\n",
       "    <body>\n",
       "        \n",
       "    \n",
       "\n",
       "<h2>Beispiel: Anzahl Besucher der Friedrichsau zu bestimmten Temperaturen in Grad Celsius, 2017</h2>\n",
       "\n",
       "<div id=\"scatterchart\"><svg style=\"width:800px;height:500px;\"></svg></div>\n",
       "\n",
       "\n",
       "    <script>\n",
       "\n",
       "\n",
       "\n",
       "            data_scatterchart=[{\"values\": [{\"x\": 18, \"y\": 40, \"shape\": \"circle\", \"size\": \"1\"}, {\"x\": 20, \"y\": 80, \"shape\": \"circle\", \"size\": \"1\"}, {\"x\": 24, \"y\": 96, \"shape\": \"circle\", \"size\": \"1\"}, {\"x\": 28, \"y\": 120, \"shape\": \"circle\", \"size\": \"1\"}, {\"x\": 30, \"y\": 140, \"shape\": \"circle\", \"size\": \"1\"}, {\"x\": 33, \"y\": 130, \"shape\": \"circle\", \"size\": \"1\"}], \"key\": \"M\\u00e4nnlich\", \"yAxis\": \"1\"}, {\"values\": [{\"x\": 18, \"y\": 45, \"shape\": \"cross\", \"size\": \"10\"}, {\"x\": 20, \"y\": 70, \"shape\": \"cross\", \"size\": \"10\"}, {\"x\": 24, \"y\": 50, \"shape\": \"cross\", \"size\": \"10\"}, {\"x\": 28, \"y\": 100, \"shape\": \"cross\", \"size\": \"10\"}, {\"x\": 30, \"y\": 120, \"shape\": \"cross\", \"size\": \"10\"}, {\"x\": 33, \"y\": 160, \"shape\": \"cross\", \"size\": \"10\"}], \"key\": \"Weiblich\", \"yAxis\": \"1\"}];\n",
       "\n",
       "\n",
       "        nv.addGraph(function() {\n",
       "        var chart = nv.models.scatterChart();\n",
       "\n",
       "        chart.margin({top: 30, right: 60, bottom: 20, left: 60});\n",
       "\n",
       "        var datum = data_scatterchart;\n",
       "\n",
       "\n",
       "\n",
       "                chart.xAxis\n",
       "                .tickFormat(d3.format(',.02f'));\n",
       "            chart.yAxis\n",
       "                .tickFormat(d3.format(',.02f'));\n",
       "\n",
       "\n",
       "\n",
       "          chart.showLegend(true);\n",
       "\n",
       "\n",
       "    \n",
       "\n",
       "        \n",
       "\n",
       "\n",
       "\n",
       "\n",
       "    chart\n",
       "        .showDistX(true)\n",
       "        .showDistY(true)\n",
       "        .color(d3.scale.category10().range());\n",
       "\n",
       "            d3.select('#scatterchart svg')\n",
       "            .datum(datum)\n",
       "            .transition().duration(500)\n",
       "            .attr('width', 800)\n",
       "            .attr('height', 500)\n",
       "            .call(chart);\n",
       "\n",
       "\n",
       "        });\n",
       "\n",
       "\n",
       "\n",
       "    </script>\n",
       "\n",
       "    </body>\n",
       "</html>"
      ],
      "text/plain": [
       "<IPython.core.display.HTML object>"
      ]
     },
     "metadata": {},
     "output_type": "display_data"
    }
   ],
   "source": [
    "from nvd3 import scatterChart\n",
    "chart = scatterChart(name='scatterChart', height=500, width=800)\n",
    "type =\"Beispiel: Anzahl Besucher der Friedrichsau zu bestimmten Temperaturen in Grad Celsius, 2017\"\n",
    "xdata = [18, 20, 24, 28, 30, 33]\n",
    "ydata = [40, 80, 96, 120, 140, 130]\n",
    "ydata2 = [45, 70, 50, 100, 120, 160]\n",
    "kwargs1 = {'shape': 'circle', 'size': '1'}\n",
    "kwargs2 = {'shape': 'cross', 'size': '10'}\n",
    "chart.set_containerheader(\"\\n\\n<h2>\" + type + \"</h2>\\n\\n\")\n",
    "\n",
    "extra_serie = {\"tooltip\": {\"y_start\": \"\", \"y_end\": \" call\"}}\n",
    "chart.add_serie(name=\"Männlich\", y=ydata, x=xdata, extra=extra_serie, **kwargs1)\n",
    "\n",
    "extra_serie = {\"tooltip\": {\"y_start\": \"\", \"y_end\": \" min\"}}\n",
    "chart.add_serie(name=\"Weiblich\", y=ydata2, x=xdata, extra=extra_serie, **kwargs2)\n",
    "chart.buildhtml()\n",
    "chart_html = chart.htmlcontent\n",
    "from IPython.display import display, HTML\n",
    "display(HTML(chart_html))"
   ]
  },
  {
   "cell_type": "code",
   "execution_count": null,
   "metadata": {},
   "outputs": [],
   "source": [
    "from nvd3 import stackedAreaChart\n",
    "chart = stackedAreaChart(name='stackedAreaChart', height=400, width=800)\n",
    "type =\"Beispiel eines Stacked Area Charts\"\n",
    "xdata = [100, 101, 102, 103, 104, 105, 106,]\n",
    "ydata = [6, 11, 12, 7, 11, 10, 11]\n",
    "ydata2 = [8, 20, 16, 12, 20, 28, 28]\n",
    "chart.set_containerheader(\"\\n\\n<h2>\" + type + \"</h2>\\n\\n\")\n",
    "extra_serie = {\"tooltip\": {\"y_start\": \"There is \", \"y_end\": \" min\"}}\n",
    "chart.add_serie(name=\"Serie 1\", y=ydata, x=xdata, extra=extra_serie)\n",
    "chart.add_serie(name=\"Serie 2\", y=ydata2, x=xdata, extra=extra_serie)\n",
    "chart.buildhtml()\n",
    "chart_html = chart.htmlcontent\n",
    "from IPython.display import display, HTML\n",
    "display(HTML(chart_html))"
   ]
  },
  {
   "cell_type": "code",
   "execution_count": 20,
   "metadata": {},
   "outputs": [
    {
     "data": {
      "text/html": [
       "<!DOCTYPE html>\n",
       "<html lang=\"en\">\n",
       "    <head>\n",
       "        <meta charset=\"utf-8\" />\n",
       "        <link href=\"https://cdnjs.cloudflare.com/ajax/libs/nvd3/1.7.0/nv.d3.min.css\" rel=\"stylesheet\" />\n",
       "        <script src=\"https://cdnjs.cloudflare.com/ajax/libs/d3/3.5.5/d3.min.js\"></script>\n",
       "        <script src=\"https://cdnjs.cloudflare.com/ajax/libs/nvd3/1.7.0/nv.d3.min.js\"></script>\n",
       "    </head>\n",
       "    <body>\n",
       "        \n",
       "    \n",
       "\n",
       "<h2>Beispiel eines Line Charts</h2>\n",
       "\n",
       "<div id=\"linechart\"><svg style=\"width:850px;height:400px;\"></svg></div>\n",
       "\n",
       "\n",
       "    <script>\n",
       "\n",
       "\n",
       "\n",
       "            data_linechart=[{\"values\": [{\"x\": 0, \"y\": 0, \"shape\": \"circle\", \"size\": \"1\"}, {\"x\": 1, \"y\": 0, \"shape\": \"circle\", \"size\": \"1\"}, {\"x\": 2, \"y\": 1, \"shape\": \"circle\", \"size\": \"1\"}, {\"x\": 3, \"y\": 1, \"shape\": \"circle\", \"size\": \"1\"}, {\"x\": 4, \"y\": 0, \"shape\": \"circle\", \"size\": \"1\"}, {\"x\": 5, \"y\": 0, \"shape\": \"circle\", \"size\": \"1\"}, {\"x\": 6, \"y\": 0, \"shape\": \"circle\", \"size\": \"1\"}, {\"x\": 7, \"y\": 0, \"shape\": \"circle\", \"size\": \"1\"}, {\"x\": 8, \"y\": 1, \"shape\": \"circle\", \"size\": \"1\"}, {\"x\": 9, \"y\": 0, \"shape\": \"circle\", \"size\": \"1\"}, {\"x\": 10, \"y\": 0, \"shape\": \"circle\", \"size\": \"1\"}, {\"x\": 11, \"y\": 4, \"shape\": \"circle\", \"size\": \"1\"}, {\"x\": 12, \"y\": 3, \"shape\": \"circle\", \"size\": \"1\"}, {\"x\": 13, \"y\": 3, \"shape\": \"circle\", \"size\": \"1\"}, {\"x\": 14, \"y\": 5, \"shape\": \"circle\", \"size\": \"1\"}, {\"x\": 15, \"y\": 7, \"shape\": \"circle\", \"size\": \"1\"}, {\"x\": 16, \"y\": 5, \"shape\": \"circle\", \"size\": \"1\"}, {\"x\": 17, \"y\": 3, \"shape\": \"circle\", \"size\": \"1\"}, {\"x\": 18, \"y\": 16, \"shape\": \"circle\", \"size\": \"1\"}, {\"x\": 19, \"y\": 6, \"shape\": \"circle\", \"size\": \"1\"}, {\"x\": 20, \"y\": 9, \"shape\": \"circle\", \"size\": \"1\"}, {\"x\": 21, \"y\": 15, \"shape\": \"circle\", \"size\": \"1\"}, {\"x\": 22, \"y\": 4, \"shape\": \"circle\", \"size\": \"1\"}, {\"x\": 23, \"y\": 12, \"shape\": \"circle\", \"size\": \"1\"}], \"key\": \"sine\", \"yAxis\": \"1\"}, {\"values\": [{\"x\": 0, \"y\": 9, \"shape\": \"cross\", \"size\": \"10\"}, {\"x\": 1, \"y\": 8, \"shape\": \"cross\", \"size\": \"10\"}, {\"x\": 2, \"y\": 11, \"shape\": \"cross\", \"size\": \"10\"}, {\"x\": 3, \"y\": 8, \"shape\": \"cross\", \"size\": \"10\"}, {\"x\": 4, \"y\": 3, \"shape\": \"cross\", \"size\": \"10\"}, {\"x\": 5, \"y\": 7, \"shape\": \"cross\", \"size\": \"10\"}, {\"x\": 6, \"y\": 10, \"shape\": \"cross\", \"size\": \"10\"}, {\"x\": 7, \"y\": 8, \"shape\": \"cross\", \"size\": \"10\"}, {\"x\": 8, \"y\": 6, \"shape\": \"cross\", \"size\": \"10\"}, {\"x\": 9, \"y\": 6, \"shape\": \"cross\", \"size\": \"10\"}, {\"x\": 10, \"y\": 9, \"shape\": \"cross\", \"size\": \"10\"}, {\"x\": 11, \"y\": 6, \"shape\": \"cross\", \"size\": \"10\"}, {\"x\": 12, \"y\": 5, \"shape\": \"cross\", \"size\": \"10\"}, {\"x\": 13, \"y\": 4, \"shape\": \"cross\", \"size\": \"10\"}, {\"x\": 14, \"y\": 3, \"shape\": \"cross\", \"size\": \"10\"}, {\"x\": 15, \"y\": 10, \"shape\": \"cross\", \"size\": \"10\"}, {\"x\": 16, \"y\": 0, \"shape\": \"cross\", \"size\": \"10\"}, {\"x\": 17, \"y\": 6, \"shape\": \"cross\", \"size\": \"10\"}, {\"x\": 18, \"y\": 3, \"shape\": \"cross\", \"size\": \"10\"}, {\"x\": 19, \"y\": 1, \"shape\": \"cross\", \"size\": \"10\"}, {\"x\": 20, \"y\": 0, \"shape\": \"cross\", \"size\": \"10\"}, {\"x\": 21, \"y\": 0, \"shape\": \"cross\", \"size\": \"10\"}, {\"x\": 22, \"y\": 0, \"shape\": \"cross\", \"size\": \"10\"}, {\"x\": 23, \"y\": 1, \"shape\": \"cross\", \"size\": \"10\"}], \"key\": \"cose\", \"yAxis\": \"1\"}];\n",
       "\n",
       "\n",
       "        nv.addGraph(function() {\n",
       "        var chart = nv.models.lineChart();\n",
       "\n",
       "        chart.margin({top: 30, right: 60, bottom: 20, left: 60});\n",
       "\n",
       "        var datum = data_linechart;\n",
       "\n",
       "\n",
       "\n",
       "                chart.xAxis\n",
       "                .tickFormat(function(d) { return get_am_pm(parseInt(d)); });\n",
       "            chart.yAxis\n",
       "                .tickFormat(d3.format(',.02f'));\n",
       "\n",
       "\n",
       "        function get_am_pm(d){\n",
       "            if (d > 12) {\n",
       "                d = d - 12; return (String(d) + 'PM');\n",
       "            }\n",
       "            else {\n",
       "                return (String(d) + 'AM');\n",
       "            }\n",
       "        };\n",
       "\n",
       "          chart.showLegend(true);\n",
       "\n",
       "\n",
       "    \n",
       "\n",
       "        \n",
       "\n",
       "\n",
       "\n",
       "            d3.select('#linechart svg')\n",
       "            .datum(datum)\n",
       "            .transition().duration(500)\n",
       "            .attr('width', 850)\n",
       "            .attr('height', 400)\n",
       "            .call(chart);\n",
       "\n",
       "\n",
       "        });\n",
       "\n",
       "\n",
       "\n",
       "    </script>\n",
       "\n",
       "    </body>\n",
       "</html>"
      ],
      "text/plain": [
       "<IPython.core.display.HTML object>"
      ]
     },
     "metadata": {},
     "output_type": "display_data"
    }
   ],
   "source": [
    "from nvd3 import lineChart\n",
    "chart = lineChart(name=\"lineChart\", x_is_date=False, x_axis_format=\"AM_PM\",height=400 ,width=850)\n",
    "type =\"Beispiel eines Line Charts\"\n",
    "xdata = range(24)\n",
    "ydata = [0, 0, 1, 1, 0, 0, 0, 0, 1, 0, 0, 4, 3, 3, 5, 7, 5, 3, 16, 6, 9, 15, 4, 12]\n",
    "ydata2 = [9, 8, 11, 8, 3, 7, 10, 8, 6, 6, 9, 6, 5, 4, 3, 10, 0, 6, 3, 1, 0, 0, 0, 1]\n",
    "chart.set_containerheader(\"\\n\\n<h2>\" + type + \"</h2>\\n\\n\")\n",
    "extra_serie = {\"tooltip\": {\"y_start\": \"There are \", \"y_end\": \" calls\"}}\n",
    "chart.add_serie(y=ydata, x=xdata, name='sine', extra=extra_serie, **kwargs1)\n",
    "extra_serie = {\"tooltip\": {\"y_start\": \"\", \"y_end\": \" min\"}}\n",
    "chart.add_serie(y=ydata2, x=xdata, name='cose', extra=extra_serie, **kwargs2)\n",
    "chart.buildhtml()\n",
    "chart_html = chart.htmlcontent\n",
    "from IPython.display import display, HTML\n",
    "display(HTML(chart_html))"
   ]
  },
  {
   "cell_type": "code",
   "execution_count": 21,
   "metadata": {},
   "outputs": [],
   "source": [
    "import pandas as pd\n",
    "import json"
   ]
  },
  {
   "cell_type": "code",
   "execution_count": 22,
   "metadata": {},
   "outputs": [
    {
     "data": {
      "text/html": [
       "<div>\n",
       "<style scoped>\n",
       "    .dataframe tbody tr th:only-of-type {\n",
       "        vertical-align: middle;\n",
       "    }\n",
       "\n",
       "    .dataframe tbody tr th {\n",
       "        vertical-align: top;\n",
       "    }\n",
       "\n",
       "    .dataframe thead th {\n",
       "        text-align: right;\n",
       "    }\n",
       "</style>\n",
       "<table border=\"1\" class=\"dataframe\">\n",
       "  <thead>\n",
       "    <tr style=\"text-align: right;\">\n",
       "      <th></th>\n",
       "      <th>alcohol</th>\n",
       "      <th>location</th>\n",
       "    </tr>\n",
       "  </thead>\n",
       "  <tbody>\n",
       "    <tr>\n",
       "      <th>0</th>\n",
       "      <td>17.5</td>\n",
       "      <td>Belarus</td>\n",
       "    </tr>\n",
       "    <tr>\n",
       "      <th>1</th>\n",
       "      <td>16.8</td>\n",
       "      <td>Moldova</td>\n",
       "    </tr>\n",
       "    <tr>\n",
       "      <th>2</th>\n",
       "      <td>15.4</td>\n",
       "      <td>Lithuania</td>\n",
       "    </tr>\n",
       "    <tr>\n",
       "      <th>3</th>\n",
       "      <td>15.1</td>\n",
       "      <td>Russia</td>\n",
       "    </tr>\n",
       "    <tr>\n",
       "      <th>4</th>\n",
       "      <td>14.4</td>\n",
       "      <td>Romania</td>\n",
       "    </tr>\n",
       "  </tbody>\n",
       "</table>\n",
       "</div>"
      ],
      "text/plain": [
       "   alcohol   location\n",
       "0     17.5    Belarus\n",
       "1     16.8    Moldova\n",
       "2     15.4  Lithuania\n",
       "3     15.1     Russia\n",
       "4     14.4    Romania"
      ]
     },
     "execution_count": 22,
     "metadata": {},
     "output_type": "execute_result"
    }
   ],
   "source": [
    "from pandas.io.json import json_normalize\n",
    "\n",
    "data = pd.read_json('alcohol.json')\n",
    "dfHead = data.head()\n",
    "data.head()"
   ]
  },
  {
   "cell_type": "code",
   "execution_count": 1,
   "metadata": {},
   "outputs": [
    {
     "ename": "ModuleNotFoundError",
     "evalue": "No module named 'nvd3'",
     "output_type": "error",
     "traceback": [
      "\u001b[0;31m---------------------------------------------------------------------------\u001b[0m",
      "\u001b[0;31mModuleNotFoundError\u001b[0m                       Traceback (most recent call last)",
      "\u001b[0;32m<ipython-input-1-f66ea1164259>\u001b[0m in \u001b[0;36m<module>\u001b[0;34m()\u001b[0m\n\u001b[0;32m----> 1\u001b[0;31m \u001b[0;32mfrom\u001b[0m \u001b[0mnvd3\u001b[0m \u001b[0;32mimport\u001b[0m \u001b[0mdiscreteBarChart\u001b[0m\u001b[0;34m\u001b[0m\u001b[0m\n\u001b[0m\u001b[1;32m      2\u001b[0m \u001b[0mtype\u001b[0m \u001b[0;34m=\u001b[0m \u001b[0;34m\"Worldwide Alcohol Consumption in liters per head per year Top 5\"\u001b[0m\u001b[0;34m\u001b[0m\u001b[0m\n\u001b[1;32m      3\u001b[0m \u001b[0mchart2\u001b[0m \u001b[0;34m=\u001b[0m \u001b[0mdiscreteBarChart\u001b[0m\u001b[0;34m(\u001b[0m\u001b[0mname\u001b[0m\u001b[0;34m=\u001b[0m\u001b[0;34m'alcohol2'\u001b[0m\u001b[0;34m,\u001b[0m\u001b[0mcolor_category\u001b[0m\u001b[0;34m=\u001b[0m\u001b[0;34m''\u001b[0m\u001b[0;34m,\u001b[0m\u001b[0mheight\u001b[0m\u001b[0;34m=\u001b[0m\u001b[0;36m400\u001b[0m\u001b[0;34m,\u001b[0m \u001b[0mwidth\u001b[0m\u001b[0;34m=\u001b[0m\u001b[0;36m400\u001b[0m\u001b[0;34m)\u001b[0m\u001b[0;34m\u001b[0m\u001b[0m\n\u001b[1;32m      4\u001b[0m \u001b[0mchart2\u001b[0m\u001b[0;34m.\u001b[0m\u001b[0mset_containerheader\u001b[0m\u001b[0;34m(\u001b[0m\u001b[0;34m\"\\n\\n<h2>\"\u001b[0m \u001b[0;34m+\u001b[0m \u001b[0mtype\u001b[0m \u001b[0;34m+\u001b[0m \u001b[0;34m\"</h2>\\n\\n\"\u001b[0m\u001b[0;34m)\u001b[0m\u001b[0;34m\u001b[0m\u001b[0m\n\u001b[1;32m      5\u001b[0m \u001b[0;34m\u001b[0m\u001b[0m\n",
      "\u001b[0;31mModuleNotFoundError\u001b[0m: No module named 'nvd3'"
     ]
    }
   ],
   "source": [
    "from nvd3 import discreteBarChart\n",
    "type = \"Worldwide Alcohol Consumption in liters per head per year Top 5\"\n",
    "chart2 = discreteBarChart(name='alcohol2',color_category='',height=400, width=400)\n",
    "chart2.set_containerheader(\"\\n\\n<h2>\" + type + \"</h2>\\n\\n\")\n",
    "\n",
    "xdata = []\n",
    "ydata = []\n",
    "\n",
    "chart2.add_serie(y=dfHead.alcohol, x=dfHead.location)\n",
    "extra_serie = {\"tooltip\": {\"y_start\": \"\", \"y_end\": \" cal\"}}\n",
    "chart2.buildhtml()\n",
    "charttop_html = chart2.htmlcontent\n",
    "display (chart2.htmlcontent)"
   ]
  },
  {
   "cell_type": "code",
   "execution_count": 25,
   "metadata": {},
   "outputs": [
    {
     "data": {
      "text/html": [
       "<!DOCTYPE html>\n",
       "<html lang=\"en\">\n",
       "    <head>\n",
       "        <meta charset=\"utf-8\" />\n",
       "        <link href=\"https://cdnjs.cloudflare.com/ajax/libs/nvd3/1.7.0/nv.d3.min.css\" rel=\"stylesheet\" />\n",
       "        <script src=\"https://cdnjs.cloudflare.com/ajax/libs/d3/3.5.5/d3.min.js\"></script>\n",
       "        <script src=\"https://cdnjs.cloudflare.com/ajax/libs/nvd3/1.7.0/nv.d3.min.js\"></script>\n",
       "    </head>\n",
       "    <body>\n",
       "        \n",
       "    \n",
       "\n",
       "<h2>Worldwide Alcohol Consumption in liters per head per Year Top 5</h2>\n",
       "\n",
       "<div id=\"alcohol2\"><svg style=\"width:400px;height:400px;\"></svg></div>\n",
       "\n",
       "\n",
       "    <script>\n",
       "\n",
       "\n",
       "\n",
       "                data_alcohol2=[{\"values\": [{\"x\": \"Belarus\", \"y\": 17.5}, {\"x\": \"Moldova\", \"y\": 16.8}, {\"x\": \"Lithuania\", \"y\": 15.4}, {\"x\": \"Russia\", \"y\": 15.1}, {\"x\": \"Romania\", \"y\": 14.4}], \"key\": \"Serie 1\", \"yAxis\": \"1\"}];\n",
       "\n",
       "\n",
       "            nv.addGraph(function() {\n",
       "        var chart = nv.models.discreteBarChart();\n",
       "\n",
       "        chart.margin({top: 30, right: 60, bottom: 20, left: 60});\n",
       "\n",
       "        var datum = data_alcohol2;\n",
       "\n",
       "\n",
       "\n",
       "                    chart.yAxis\n",
       "                .tickFormat(d3.format(',.0f'));\n",
       "\n",
       "    \n",
       "    \n",
       "\n",
       "        \n",
       "\n",
       "\n",
       "\n",
       "            d3.select('#alcohol2 svg')\n",
       "            .datum(datum)\n",
       "            .transition().duration(500)\n",
       "            .attr('width', 400)\n",
       "            .attr('height', 400)\n",
       "            .call(chart);\n",
       "\n",
       "    \n",
       "        });\n",
       "\n",
       "\n",
       "\n",
       "    </script>\n",
       "\n",
       "    </body>\n",
       "</html>"
      ],
      "text/plain": [
       "<IPython.core.display.HTML object>"
      ]
     },
     "metadata": {},
     "output_type": "display_data"
    }
   ],
   "source": [
    "from IPython.display import display, HTML\n",
    "\n",
    "\n",
    "display(HTML(charttop_html))"
   ]
  },
  {
   "cell_type": "markdown",
   "metadata": {},
   "source": [
    "### plotly\n",
    "Solange alle Links und Bezüge die zu Plotly bestehen unberührt und intakt bleiben, ist die JavaScript-Bibliothek Plotly.js kostenlos zu haben.<br>\n",
    "Plotly bietet mit ihren Basic Charts schon einige Chart-Varianten. <br>\n",
    "Plotly.js fußt auf dem der Visualisierung dienenden D3.js und dem WebGL-orientierten Paket stack.gl.\n",
    "Die Bibliothek kann etweder auf den eigenen Server heruntergeladen, oder durch ein Content Delivery Network bezogen werden."
   ]
  },
  {
   "cell_type": "code",
   "execution_count": 27,
   "metadata": {},
   "outputs": [],
   "source": [
    "# sudo pip install plotly \n",
    "\n",
    "# pip install plotly --upgrade\n"
   ]
  },
  {
   "cell_type": "markdown",
   "metadata": {},
   "source": [
    "Darüber hinaus muss ein Plotly Account erstellt werden, sowie ein API-Key bezogen werden.\n"
   ]
  },
  {
   "cell_type": "code",
   "execution_count": null,
   "metadata": {},
   "outputs": [],
   "source": [
    "import plotly\n",
    "plotly.tools.set_credentials_file(username='ThalerF', api_key='IMzec5DXDSp3NNvYrqxP')"
   ]
  },
  {
   "cell_type": "code",
   "execution_count": null,
   "metadata": {},
   "outputs": [],
   "source": [
    "import pandas as pd\n",
    "import numpy as np\n",
    "import scipy as sp\n",
    "import plotly.plotly as py"
   ]
  },
  {
   "cell_type": "code",
   "execution_count": null,
   "metadata": {
    "scrolled": true
   },
   "outputs": [],
   "source": [
    "import plotly.figure_factory as ff\n",
    "\n",
    "df = pd.read_csv(\"data/school_earnings.csv\")\n",
    "\n",
    "table = ff.create_table(df)\n",
    "py.iplot(table, filename='school_earnings_table')"
   ]
  },
  {
   "cell_type": "code",
   "execution_count": 32,
   "metadata": {},
   "outputs": [
    {
     "data": {
      "text/plain": [
       "'MIT'"
      ]
     },
     "execution_count": 32,
     "metadata": {},
     "output_type": "execute_result"
    }
   ],
   "source": [
    "schools = df.School\n",
    "schools[0]"
   ]
  },
  {
   "cell_type": "code",
   "execution_count": 33,
   "metadata": {},
   "outputs": [
    {
     "data": {
      "text/plain": [
       "Women    12.813683\n",
       "Men      25.705289\n",
       "Gap      14.137084\n",
       "dtype: float64"
      ]
     },
     "execution_count": 33,
     "metadata": {},
     "output_type": "execute_result"
    }
   ],
   "source": [
    "df.std()"
   ]
  },
  {
   "cell_type": "code",
   "execution_count": 34,
   "metadata": {},
   "outputs": [
    {
     "data": {
      "text/html": [
       "<iframe id=\"igraph\" scrolling=\"no\" style=\"border:none;\" seamless=\"seamless\" src=\"https://plot.ly/~ThalerF/6.embed\" height=\"525px\" width=\"100%\"></iframe>"
      ],
      "text/plain": [
       "<plotly.tools.PlotlyDisplay object>"
      ]
     },
     "execution_count": 34,
     "metadata": {},
     "output_type": "execute_result"
    }
   ],
   "source": [
    "import plotly.plotly as py\n",
    "import plotly.graph_objs as go\n",
    "\n",
    "data = [go.Bar(x=df.School,\n",
    "               y=df.Gap)]\n",
    "\n",
    "py.iplot(data, filename='school_earnings_table')"
   ]
  },
  {
   "cell_type": "code",
   "execution_count": 35,
   "metadata": {},
   "outputs": [
    {
     "data": {
      "text/html": [
       "<iframe id=\"igraph\" scrolling=\"no\" style=\"border:none;\" seamless=\"seamless\" src=\"https://plot.ly/~ThalerF/12.embed\" height=\"525px\" width=\"100%\"></iframe>"
      ],
      "text/plain": [
       "<plotly.tools.PlotlyDisplay object>"
      ]
     },
     "execution_count": 35,
     "metadata": {},
     "output_type": "execute_result"
    }
   ],
   "source": [
    "\n",
    "import plotly.plotly as py\n",
    "import plotly.graph_objs as go\n",
    "\n",
    "trace = go.Heatmap(z=[[1, 20, 30],\n",
    "                      [20, 1, 60],\n",
    "                      [30, 60, 1]])\n",
    "data=[trace]\n",
    "py.iplot(data, filename='basic-heatmap')"
   ]
  },
  {
   "cell_type": "code",
   "execution_count": 44,
   "metadata": {},
   "outputs": [
    {
     "data": {
      "text/html": [
       "<iframe id=\"igraph\" scrolling=\"no\" style=\"border:none;\" seamless=\"seamless\" src=\"https://plot.ly/~ThalerF/8.embed\" height=\"525px\" width=\"100%\"></iframe>"
      ],
      "text/plain": [
       "<plotly.tools.PlotlyDisplay object>"
      ]
     },
     "execution_count": 44,
     "metadata": {},
     "output_type": "execute_result"
    }
   ],
   "source": [
    "import datetime\n",
    "import numpy as np\n",
    "import plotly.plotly as py\n",
    "import plotly.graph_objs as go\n",
    "\n",
    "programmers = ['Hans','Peter','Jenny','Gabi','Josefine','Helmut','Jens']\n",
    "\n",
    "base = datetime.datetime.today()\n",
    "date_list = [base - datetime.timedelta(days=x) for x in range(0, 30)]\n",
    "\n",
    "z = []\n",
    "\n",
    "for prgmr in programmers:\n",
    "    new_row = []\n",
    "    for date in date_list:\n",
    "        new_row.append( np.random.poisson() )\n",
    "    z.append(list(new_row))\n",
    "\n",
    "data = [\n",
    "    go.Heatmap(\n",
    "        z=z,\n",
    "        x=date_list,\n",
    "        y=programmers,\n",
    "        colorscale='Viridis',\n",
    "    )\n",
    "]\n",
    "\n",
    "layout = go.Layout(\n",
    "    title='GitHub Commits pro Tag pro Programmierer',\n",
    "    xaxis = dict(ticks='', nticks=36),\n",
    "    yaxis = dict(ticks='' )\n",
    ")\n",
    "\n",
    "fig = go.Figure(data=data, layout=layout)\n",
    "py.iplot(fig, filename='datetime-heatmap')"
   ]
  },
  {
   "cell_type": "markdown",
   "metadata": {},
   "source": [
    "### mpld3\n",
    "Das mpld3-Projekt vereint die Python-basierte Grafikbibliothek **Matplotlib** und **D3.js.** <br> \n",
    "Dies ermöglicht den Export von Matplotlib-Grafiken in HTML-Code, der im Browser, oder eben auch in Jupyter-Notebooks verwendet werden kann.\n",
    "\n",
    "### Installation"
   ]
  },
  {
   "cell_type": "code",
   "execution_count": null,
   "metadata": {},
   "outputs": [],
   "source": [
    "# sudo pip install mpld3"
   ]
  },
  {
   "cell_type": "markdown",
   "metadata": {},
   "source": [
    "Weitere Installationsmöglichkeiten wie z.B. von Github finden sich <a href=\"https://mpld3.github.io/install.html#installing-mpld3\">hier</a>."
   ]
  },
  {
   "cell_type": "markdown",
   "metadata": {},
   "source": [
    "Beispiel eines Bar Charts:"
   ]
  },
  {
   "cell_type": "code",
   "execution_count": null,
   "metadata": {
    "scrolled": true
   },
   "outputs": [
    {
     "name": "stdout",
     "output_type": "stream",
     "text": [
      "\n",
      "Note: if you're in the IPython notebook, mpld3.show() is not the best command\n",
      "      to use. Consider using mpld3.display(), or mpld3.enable_notebook().\n",
      "      See more information at http://mpld3.github.io/quickstart.html .\n",
      "\n",
      "You must interrupt the kernel to end this command\n",
      "\n",
      "Serving to http://127.0.0.1:8891/    [Ctrl-C to exit]\n"
     ]
    },
    {
     "name": "stderr",
     "output_type": "stream",
     "text": [
      "127.0.0.1 - - [20/Jun/2018 21:33:47] \"GET / HTTP/1.1\" 200 -\n",
      "127.0.0.1 - - [20/Jun/2018 21:33:47] \"GET /d3.js HTTP/1.1\" 200 -\n",
      "127.0.0.1 - - [20/Jun/2018 21:33:47] \"GET /mpld3.js HTTP/1.1\" 200 -\n",
      "127.0.0.1 - - [20/Jun/2018 21:33:47] code 404, message Not Found\n",
      "127.0.0.1 - - [20/Jun/2018 21:33:47] \"GET /favicon.ico HTTP/1.1\" 404 -\n"
     ]
    }
   ],
   "source": [
    "from matplotlib.ticker import FuncFormatter\n",
    "import matplotlib.pyplot as plt, mpld3\n",
    "import matplotlib.pyplot as plt\n",
    "import numpy as np\n",
    "\n",
    "x = np.arange(7)\n",
    "totalStudents = [70, 60, 50, 40, 30, 20,10]\n",
    "\n",
    "fig, ax = plt.subplots()\n",
    "plt.bar(x, totalStudents)\n",
    "plt.xticks(x, ('1.Sem', '2.Sem', '3.Sem','4.Sem','5.Sem','6.Sem','7.Sem'))\n",
    "mpld3.show()"
   ]
  },
  {
   "cell_type": "markdown",
   "metadata": {},
   "source": [
    "<!-- man könnte noch ein Quellenverzeichnis machen -->"
   ]
  },
  {
   "cell_type": "code",
   "execution_count": null,
   "metadata": {},
   "outputs": [],
   "source": []
  }
 ],
 "metadata": {
  "kernelspec": {
   "display_name": "Python 3",
   "language": "python",
   "name": "python3"
  },
  "language_info": {
   "codemirror_mode": {
    "name": "ipython",
    "version": 3
   },
   "file_extension": ".py",
   "mimetype": "text/x-python",
   "name": "python",
   "nbconvert_exporter": "python",
   "pygments_lexer": "ipython3",
   "version": "3.6.4"
  }
 },
 "nbformat": 4,
 "nbformat_minor": 2
}
