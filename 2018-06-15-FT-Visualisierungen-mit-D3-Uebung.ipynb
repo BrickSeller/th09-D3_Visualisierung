{
 "cells": [
  {
   "cell_type": "markdown",
   "metadata": {},
   "source": [
    "# Übungen zur Visualisierung mit D3"
   ]
  },
  {
   "cell_type": "markdown",
   "metadata": {},
   "source": [
    "## Aufgabe 1 - Theorie"
   ]
  },
  {
   "cell_type": "markdown",
   "metadata": {},
   "source": [
    "> Beantworten Sie die folgenden Fragen:\n",
    ">> 1.1 Was sind die wesentlichen Ziele der explorativen Datenanalyse?\n",
    "\n",
    "\n",
    ">> 1.2 Erklären Sie den Begriff *Enable* im Bezug auf die Success Regeln nach Hichert. Wie kann ein erfolgreiches *Enable* herbeigeführt werden?\n",
    "\n",
    ">> 1.3 Welche groben Fehler wurden in folgendem Bar Chart begangen?<br> <!--Anzahl der Fehler sollte vermerkt werden -->\n",
    "![SchlechterChart](img/badgraph.png) <center></center>\n",
    "\n",
    ">> 1.4 Welcher Diagrammtyp würde sich besser eignen?\n",
    "\n",
    " \n"
   ]
  },
  {
   "cell_type": "markdown",
   "metadata": {},
   "source": [
    "## Aufgabe 2 - nvd3\n",
    "> 2.1 Binden Sie alle notwendigen Bibliotheken ein und binden sie das Datenset *Worldwide_InstantNoodleConsumption.csv* aus dem Data Ordner als Dataframe ein. <br>\n",
    " <a href=\"https://instantnoodles.org/en/noodles/market.html\">Hier</a> kommen die Daten her. <br>\n",
    "> 2.2 Lassen Sie sich die 10 Länder mit dem höchsten Verzehr an Instantnudeln anzeigen. <br>\n",
    "> 2.3 Erstellen Sie nun mithilfe von nvd3 einen Bar Chart, welcher den Instantnudelverbrauch dieser 10 Länder im Jahre 2017 darstellt. <br> Achten Sie hierbei auf eine übersichtliche Darstellung mit angemessenem Titel. <br>\n",
    "> 2.4 Erstellen Sie jetzt einen Multi-Bar-Chart, der den Verbrauch an Instantnudeln über den Zeitraum von 2014 bis 2017 in Deutschland mit dem in Polen vergleicht. <br>\n",
    "Der Chart sollte nach Möglichkeit Stapelbar sein. <br>\n",
    "**Hinweis**: der Einfachheit halber dürfen Sie den Chart auch manuell befüllen.\n",
    " \n"
   ]
  },
  {
   "cell_type": "markdown",
   "metadata": {},
   "source": [
    "## Aufgabe 3 - plotly\n",
    "> 3.1 Binden Sie alle notwendigen Bibliotheken ein und erstellen Sie eine Heatmap, welche für eine Woche (Mo, Di,...,So) jeweils zu 3 Tageszeiten (morgens, mittags, abends) Temperaturen in Grad Celsius darstellt. <br>\n",
    "Die Temperaturen dürfen manuell eingetragen werden. <br>\n",
    "Falls Sie sich keinen plotly Account erstellen möchten, dürfen Sie gerne meine Credentials verwenden: <br>"
   ]
  },
  {
   "cell_type": "code",
   "execution_count": 1,
   "metadata": {},
   "outputs": [],
   "source": [
    "#plotly.tools.set_credentials_file(username='ThalerF', api_key='IMzec5DXDSp3NNvYrqxP')"
   ]
  }
 ],
 "metadata": {
  "kernelspec": {
   "display_name": "Python 3",
   "language": "python",
   "name": "python3"
  },
  "language_info": {
   "codemirror_mode": {
    "name": "ipython",
    "version": 3
   },
   "file_extension": ".py",
   "mimetype": "text/x-python",
   "name": "python",
   "nbconvert_exporter": "python",
   "pygments_lexer": "ipython3",
   "version": "3.6.4"
  }
 },
 "nbformat": 4,
 "nbformat_minor": 2
}
